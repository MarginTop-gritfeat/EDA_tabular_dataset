{
 "cells": [
  {
   "cell_type": "code",
   "execution_count": 1,
   "id": "bf35d43b",
   "metadata": {},
   "outputs": [],
   "source": [
    "disease = {'akiec': 0, 'bcc': 1, 'bkl': 2, 'df': 3, 'mel': 4, 'nv': 5, 'vasc': 6} \n",
    "sex = {'Others': 0, 'female': 1, 'male': 2}\n",
    "body_part = {'Others': 0, 'abdomen': 1, 'back': 2, 'chest': 3, 'face': 4, 'foot': 5, 'hand': 6, 'lower extremity': 7, 'neck': 8, 'scalp': 9, 'trunk': 10, 'upper extremity': 11}"
   ]
  },
  {
   "cell_type": "code",
   "execution_count": 46,
   "id": "d2939615",
   "metadata": {},
   "outputs": [],
   "source": [
    "disease_dict = {\n",
    "    \"Actinic keratoses and intraepithelial carcinoma / Bowen's disease\":0,\n",
    "    \"Basal cell carcinoma\":1,\n",
    "    \"Benign keratosis-like lesions (solar lentigines / seborrheic keratoses and lichen-planus like keratoses)\":2,\n",
    "    \"Dermatofibroma\":3,\n",
    "    \"Melanoma\":4,\n",
    "    \"Vascular lesions (angiomas, angiokeratomas, pyogenic granulomas and hemorrhage)\":5,\n",
    "    \"Basal cell carcinoma\":6,\n",
    "    \"Melanocytic nevi\":7\n",
    "}\n",
    "def disease_name(n):\n",
    "    for i in disease_dict:\n",
    "        if disease_dict[i] == n:\n",
    "            return i\n"
   ]
  },
  {
   "cell_type": "code",
   "execution_count": 51,
   "id": "4ba1a3f8",
   "metadata": {},
   "outputs": [
    {
     "data": {
      "text/plain": [
       "'Benign keratosis-like lesions (solar lentigines / seborrheic keratoses and lichen-planus like keratoses)'"
      ]
     },
     "execution_count": 51,
     "metadata": {},
     "output_type": "execute_result"
    }
   ],
   "source": [
    "disease_name(2)"
   ]
  },
  {
   "cell_type": "code",
   "execution_count": 9,
   "id": "186add0f",
   "metadata": {},
   "outputs": [
    {
     "data": {
      "text/plain": [
       "{'short_name': 'nv',\n",
       " 'name': 'Melanocytic nevi',\n",
       " 'description': 'Benign tumors of the pigment cells that can appear as dark spots on the skin.',\n",
       " 'symptoms': ['A dark spot on the skin',\n",
       "  'A mole that changes in size, shape, or color',\n",
       "  'Itchy or painful mole'],\n",
       " 'causes': 'The exact cause of melanocytic nevi is not known, but they are thought to be caused by a combination of genetic and environmental factors. Sun exposure and having a family history of melanoma can increase the risk of developing melanocytic nevi.',\n",
       " 'prevention': 'Limiting sun exposure, using sunscreen, and regularly checking for changes in existing moles or the development of new moles can help reduce the risk of developing melanocytic nevi.'}"
      ]
     },
     "execution_count": 9,
     "metadata": {},
     "output_type": "execute_result"
    }
   ],
   "source": [
    "{'short_name':'akiec',\n",
    "'name': \"Actinic keratoses and intraepithelial carcinoma / Bowen's disease\",\n",
    "'description': 'A type of precancerous skin lesion caused by excessive sun exposure.',\n",
    "'symptoms': ['Rough, scaly patches of skin', 'Lesions that are pink, red, or brown in color', 'Lesions that may be itchy or painful'],\n",
    "'causes': ['Excessive sun exposure, particularly in individuals with fair skin.'],\n",
    "'prevention': 'Using sun protection measures, such as wearing protective clothing and using sunscreen with a high SPF.'\n",
    "},\n",
    "{\n",
    "'short_name':'bcc',\n",
    "'name': 'Basal cell carcinoma',\n",
    "'description': 'A type of skin cancer that develops in the basal cells, which are located in the lower part of the epidermis.',\n",
    "'symptoms': ['A pearly or waxy bump on the skin', 'A flat, flesh-colored or brown scar-like lesion', 'A sore that bleeds or develops a crust'],\n",
    "'causes': ['Excessive sun exposure, particularly in individuals with fair skin.'],\n",
    "'prevention': 'Using sun protection measures, such as wearing protective clothing and using sunscreen with a high SPF.'\n",
    "},\n",
    "{\n",
    "    'short_name':'bkl',\n",
    "'name': 'Benign keratosis-like lesions (solar lentigines / seborrheic keratoses and lichen-planus like keratoses)',\n",
    "'description': 'A type of benign skin lesion that is caused by excessive sun exposure.',\n",
    "'symptoms': ['Rough, scaly patches of skin', 'Lesions that are brown or black in color', 'Lesions that may be itchy or painful'],\n",
    "'causes': 'Excessive sun exposure, particularly in individuals with fair skin.',\n",
    "'prevention': 'Using sun protection measures, such as wearing protective clothing and using sunscreen with a high SPF.'\n",
    "},\n",
    "{\n",
    "    'short_name':'df',\n",
    "'name': 'Dermatofibroma',\n",
    "'description': 'A benign skin lesion that is characterized by a fibrous growth on the skin.',\n",
    "'symptoms': ['A small, hard bump on the skin', 'A bump that is pink, brown, or purple in color', 'A bump that may be itchy or painful'],\n",
    "'causes': 'Unknown, but may be related to trauma to the skin.',\n",
    "'prevention': 'Avoiding trauma to the skin by using proper protective gear and being careful during activities that may cause injury.'\n",
    "},\n",
    "{\n",
    "    'short_name':'mel',\n",
    "'name': 'Melanoma',\n",
    "'description': 'A type of skin cancer that develops in the cells that produce pigment in the skin.',\n",
    "'symptoms': ['A mole that is changing in size, shape, or color', 'A mole that is asymmetrical', 'A mole that has uneven color or more than one color'],\n",
    "'causes': 'Excessive sun exposure, particularly in individuals with fair skin.',\n",
    "'prevention': 'Using sun protection measures, such as wearing protective clothing and using sunscreen with a high SPF.'\n",
    "},\n",
    "{\n",
    "    'short_name':'vasc',\n",
    "'name': 'Vascular lesions (angiomas, angiokeratomas, pyogenic granulomas and hemorrhage)',\n",
    "'description': 'A type of benign skin lesion that is characterized by an abnormal growth of blood vessels.',\n",
    "'symptoms': ['A red or purple bump or patch on the skin', 'Lesions that may be itchy or painful', 'Lesions that may bleed easily'],\n",
    "'causes': 'Unknown, but may be related to genetics or hormonal changes.',\n",
    "'prevention': 'Unknown, as the causes of these lesions are largely unknown. However, avoiding sun exposure, injury or irritation of the lesion and keeping the area dry and clean is advisable.'\n",
    "},\n",
    "{\n",
    "    'short_name':'bcc',\n",
    "'name': 'Basal cell carcinoma',\n",
    "'description': 'A type of skin cancer that develops in the basal cells, which are located in the lower part of the epidermis. It is the most common type of skin cancer.',\n",
    "'symptoms': ['A pearly or waxy bump on the skin', 'A flat, flesh-colored or brown scar-like lesion', 'A sore that bleeds or develops a crust'],\n",
    "'causes': 'Excessive sun exposure, particularly in individuals with fair skin and a history of sunburns, is the main risk factor for BCC. Other risk factors include exposure to UV radiation, such as tanning beds, and having certain genetic conditions that increase the risk of skin cancer.',\n",
    "'prevention': 'Using sun protection measures, such as wearing protective clothing and using sunscreen with a high SPF, avoiding UV radiation, such as tanning beds, and having regular skin checkups by a dermatologist.'\n",
    "},\n",
    "{\n",
    "'short_name': 'nv',\n",
    "'name': 'Melanocytic nevi',\n",
    "'description': 'Benign tumors of the pigment cells that can appear as dark spots on the skin.',\n",
    "'symptoms': ['A dark spot on the skin', 'A mole that changes in size, shape, or color', 'Itchy or painful mole'],\n",
    "'causes': 'The exact cause of melanocytic nevi is not known, but they are thought to be caused by a combination of genetic and environmental factors. Sun exposure and having a family history of melanoma can increase the risk of developing melanocytic nevi.',\n",
    "'prevention': 'Limiting sun exposure, using sunscreen, and regularly checking for changes in existing moles or the development of new moles can help reduce the risk of developing melanocytic nevi.'\n",
    "}"
   ]
  },
  {
   "cell_type": "code",
   "execution_count": 36,
   "id": "326f4399",
   "metadata": {},
   "outputs": [],
   "source": [
    "import numpy as np\n",
    "import pandas as pd"
   ]
  },
  {
   "cell_type": "code",
   "execution_count": 37,
   "id": "009d95e4",
   "metadata": {},
   "outputs": [],
   "source": [
    "x  = np.array(((1,2,4,5),(1,2,3,4)))"
   ]
  },
  {
   "cell_type": "code",
   "execution_count": 38,
   "id": "1dcc6f3e",
   "metadata": {},
   "outputs": [],
   "source": [
    "df = pd.DataFrame(x, columns = ['Column_A','Column_B','Column_C', 'Column_D'])"
   ]
  },
  {
   "cell_type": "code",
   "execution_count": 39,
   "id": "df86e067",
   "metadata": {},
   "outputs": [
    {
     "data": {
      "text/html": [
       "<div>\n",
       "<style scoped>\n",
       "    .dataframe tbody tr th:only-of-type {\n",
       "        vertical-align: middle;\n",
       "    }\n",
       "\n",
       "    .dataframe tbody tr th {\n",
       "        vertical-align: top;\n",
       "    }\n",
       "\n",
       "    .dataframe thead th {\n",
       "        text-align: right;\n",
       "    }\n",
       "</style>\n",
       "<table border=\"1\" class=\"dataframe\">\n",
       "  <thead>\n",
       "    <tr style=\"text-align: right;\">\n",
       "      <th></th>\n",
       "      <th>Column_A</th>\n",
       "      <th>Column_B</th>\n",
       "      <th>Column_C</th>\n",
       "      <th>Column_D</th>\n",
       "    </tr>\n",
       "  </thead>\n",
       "  <tbody>\n",
       "    <tr>\n",
       "      <th>0</th>\n",
       "      <td>1</td>\n",
       "      <td>2</td>\n",
       "      <td>4</td>\n",
       "      <td>5</td>\n",
       "    </tr>\n",
       "    <tr>\n",
       "      <th>1</th>\n",
       "      <td>1</td>\n",
       "      <td>2</td>\n",
       "      <td>3</td>\n",
       "      <td>4</td>\n",
       "    </tr>\n",
       "  </tbody>\n",
       "</table>\n",
       "</div>"
      ],
      "text/plain": [
       "   Column_A  Column_B  Column_C  Column_D\n",
       "0         1         2         4         5\n",
       "1         1         2         3         4"
      ]
     },
     "execution_count": 39,
     "metadata": {},
     "output_type": "execute_result"
    }
   ],
   "source": [
    "df"
   ]
  },
  {
   "cell_type": "code",
   "execution_count": 40,
   "id": "0a770ff3",
   "metadata": {},
   "outputs": [],
   "source": [
    "list1 = []\n",
    "for i in df.columns:\n",
    "    mean = df[i].mean()\n",
    "    list1.append(mean)"
   ]
  },
  {
   "cell_type": "code",
   "execution_count": 41,
   "id": "c0c2ddc1",
   "metadata": {},
   "outputs": [
    {
     "data": {
      "text/plain": [
       "[1.0, 2.0, 3.5, 4.5]"
      ]
     },
     "execution_count": 41,
     "metadata": {},
     "output_type": "execute_result"
    }
   ],
   "source": [
    "list1"
   ]
  }
 ],
 "metadata": {
  "kernelspec": {
   "display_name": "Python 3 (ipykernel)",
   "language": "python",
   "name": "python3"
  },
  "language_info": {
   "codemirror_mode": {
    "name": "ipython",
    "version": 3
   },
   "file_extension": ".py",
   "mimetype": "text/x-python",
   "name": "python",
   "nbconvert_exporter": "python",
   "pygments_lexer": "ipython3",
   "version": "3.9.12"
  }
 },
 "nbformat": 4,
 "nbformat_minor": 5
}
